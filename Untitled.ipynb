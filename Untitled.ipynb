{
 "cells": [
  {
   "cell_type": "code",
   "execution_count": 5,
   "metadata": {},
   "outputs": [
    {
     "name": "stdout",
     "output_type": "stream",
     "text": [
      "mr_stephen\n"
     ]
    }
   ],
   "source": [
    "import praw\n",
    "\n",
    "reddit = praw.Reddit(client_id='DiypC0N9YzVzaw',\n",
    "                     client_secret='aQ__rgRY_5H2PdeEGvgIBS9tSUo',\n",
    "                     password='SlimeySocks925',\n",
    "                     user_agent='hhh_scraper by u/mr_stephen',\n",
    "                     username='mr_stephen')\n",
    "\n",
    "print(reddit.user.me())"
   ]
  },
  {
   "cell_type": "code",
   "execution_count": 17,
   "metadata": {},
   "outputs": [
    {
     "name": "stdout",
     "output_type": "stream",
     "text": [
      "The Immortal Legacy of Seba Jun, known to many as Nujabes, a legendary Japanese hip-hop producer who kickstarted what could be considered the modern lo-fi movement, alongside Dilla, Madlib, and others. I've spent the last 9 months interviewing those close to him, for further insight.\n",
      "Pusha-T - The Story of Adidon\n",
      "[FRESH ALBUM] Denzel Curry - ZUU\n",
      "[LEAK] KANYE WEST - LIVING SO ITALIAN\n",
      "Freddie Gibbs & Madlib - Bandana will be released June 28\n",
      "Tyler, The Creator's \"IGOR\" sells 172K First Week (78K Pure). DJ Khaled's \"Father Of Asahd\" sells 132K First Week (32K Pure). Megan Thee Stallion's \"Fever\" sells 27K First Week (4K Pure).\n",
      "Kanye reveals his admiration for Andy Kaufman, explains why he doesn't take medicine for his bi-polar, and speaks out again liberal bullies in 60-minute interview with Letterman\n",
      "Lil Nas X preforms Old Town Road for some super hyped Elementary Schoolers\n",
      "WWE's John Cena Finally Admits To Stealing \"U Can't See Me\" & Thuganomics Gimmick From Tony Yayo, 50 Cent & G-Unit\n",
      "Tyler drops full IGOR credits\n",
      "[LEAK] Juice Wrld & Ski Mask The Slump God - Evil Twins\n",
      "[FRESH] Freddie Gibbs & Madlib - Crime Pays\n",
      "[FRESH VIDEO] Injury Reserve - Injury Reserve (Full Album)\n",
      "Freddie Gibbs & Madlib - Bandana - Album artwork, no release date\n",
      "DaBaby posts video of him knocking out a heckler at the mall\n",
      "[FRESH ALBUM] Skepta - Ignorance is Bliss\n",
      "R. Kelly charged with 11 new counts of sex assault, abuse\n",
      "[LEAK] Post Malone ft. Kanye West - Fuck the Internet\n",
      "Kodak Black to Be Held in Jail Without Bond\n",
      "Gucci Mane - Met Gala (feat. Offset)\n",
      "[FRESH] Eminem & Proof Freestyle (NEVER HEARD BEFORE)\n",
      "New Lil Wayne album titled “The Funeral” to be released.\n",
      "Kendrick Lamar - The Heart Part IV\n",
      "Lil Uzi Vert cancelled at Soundset, Lil Nas X and DaBaby added\n",
      "[FRESH VIDEO] bladee - Topman\n"
     ]
    }
   ],
   "source": [
    "counter = 0\n",
    "for post in reddit.subreddit('hiphopheads').top(\"week\"):\n",
    "    counter += 1\n",
    "    print(post.title)\n",
    "    if counter == 25:\n",
    "        break"
   ]
  }
 ],
 "metadata": {
  "kernelspec": {
   "display_name": "Python 3",
   "language": "python",
   "name": "python3"
  },
  "language_info": {
   "codemirror_mode": {
    "name": "ipython",
    "version": 3
   },
   "file_extension": ".py",
   "mimetype": "text/x-python",
   "name": "python",
   "nbconvert_exporter": "python",
   "pygments_lexer": "ipython3",
   "version": "3.7.2"
  }
 },
 "nbformat": 4,
 "nbformat_minor": 2
}
